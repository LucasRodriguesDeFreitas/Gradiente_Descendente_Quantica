{
  "cells": [
    {
      "cell_type": "code",
      "execution_count": null,
      "metadata": {
        "id": "39hfro50I-ku"
      },
      "outputs": [],
      "source": [
        "%%capture \n",
        "\n",
        "# Comment this out if you don't want to install pennylane from this notebook\n",
        "!pip install pennylane"
      ]
    },
    {
      "cell_type": "code",
      "execution_count": null,
      "metadata": {
        "id": "W9J7JpNNknG7"
      },
      "outputs": [],
      "source": [
        "import pennylane as qml\n",
        "from pennylane import numpy as np"
      ]
    },
    {
      "cell_type": "markdown",
      "metadata": {
        "id": "6i4quOW-I-kw"
      },
      "source": [
        "# Calculando gradientes quânticos em qualquer dispositivo\n",
        "\n",
        "Nos dois últimos notebooks, vimos que o PennyLane permite que você \"aloque\" perfeitamente os cálculos quânticos em estruturas de diferenciação automática. Enquanto usamos a estrutura Numpy/Autograd, você também pode fazer a interface do PennyLane com PyTorch, Tensorflow e Jax.\n",
        "\n",
        "Se computações quânticas são *simuladas* codificando multiplicações de vetores de matriz em uma linguagem de codificação específica, elas se tornam apenas computações diferenciáveis. Este é o truque que o dispositivo `default.qubit` usa se possível: ele sabe simular circuitos quânticos em Autograd, TensorFlow etc. Mas e se usarmos um dispositivo que não seja implementado de forma automática de diferenciação? E se o dispositivo usar hardware quântico?\n",
        "\n",
        "No PennyLane, qualquer dispositivo quântico, seja um dispositivo de hardware ou um simulador, pode ser treinado usando a [regra de mudança de parâmetro](https://pennylane.ai/qml/glossary/parameter_shift.html) para calcular gradientes quânticos. De fato, a regra de mudança de parâmetro é ideal para dispositivos de hardware, pois\n",
        "não requer nenhum conhecimento sobre o funcionamento interno do dispositivo; basta tratar o dispositivo como uma 'caixa preta' e consultá-lo com diferentes valores de entrada para determinar o gradiente.\n",
        "\n",
        "## 1. A regra de mudança de parâmetro\n",
        "\n",
        "\n",
        "A regra de mudança de parâmetro afirma que, dado um circuito quântico variacional $U(\\boldsymbol\n",
        "\\theta)$ composto de rotações de Pauli parametrizadas, e algumas medidas observáveis ​​$\\mathcal{M}$, o\n",
        "derivada do valor esperado\n",
        "\n",
        "\n",
        "\\begin{align}\\langle \\mathcal{M} \\rangle (\\boldsymbol\\theta) =\n",
        "    \\langle 0 \\vert U(\\boldsymbol\\theta)^\\dagger \\mathcal{M} U(\\boldsymbol\\theta) \\vert 0\\rangle\\end{align}\n",
        "\n",
        "em relação aos parâmetros do circuito de entrada $\\boldsymbol{\\theta}$ é dado por\n",
        "\n",
        "\\begin{align}\\nabla_{\\theta_i}\\langle \\mathcal{M} \\rangle(\\boldsymbol\\theta)\n",
        "      = \\frac{1}{2}\n",
        "            \\deixei[\n",
        "                \\langle \\mathcal{M} \\rangle\\left(\\boldsymbol\\theta + \\frac{\\pi}{2}\\hat{\\mathbf{e}}_i\\right)\n",
        "              - \\langle \\mathcal{M} \\rangle\\left(\\boldsymbol\\theta - \\frac{\\pi}{2}\\hat{\\mathbf{e}}_i\\right)\n",
        "            \\direita].\\end{alinhar}\n",
        "\n",
        "Assim, o gradiente do valor esperado pode ser calculado avaliando o mesmo circuito quântico variacional, mas com valores de parâmetro deslocados (daí o nome, regra de deslocamento de parâmetro!)."
      ]
    },
    {
      "cell_type": "markdown",
      "metadata": {
        "id": "iFOUl-CnI-ky"
      },
      "source": [
        "## 2. Hand-coded parameter-shift rule"
      ]
    },
    {
      "cell_type": "markdown",
      "source": [
        ""
      ],
      "metadata": {
        "id": "hYsU6_BpemkK"
      }
    },
    {
      "cell_type": "markdown",
      "metadata": {
        "id": "jcFzzMPhI-k1"
      },
      "source": [
        "Vamos primeiro implementar a regra de mudança de parâmetro manualmente. Usamos o modelo quântico do notebook anterior."
      ]
    },
    {
      "cell_type": "code",
      "execution_count": null,
      "metadata": {
        "id": "FqTDlFNfI-kz"
      },
      "outputs": [],
      "source": [
        "dev = qml.device(\"default.qubit\", wires=2) "
      ]
    },
    {
      "cell_type": "code",
      "execution_count": null,
      "metadata": {
        "colab": {
          "base_uri": "https://localhost:8080/"
        },
        "id": "q-OLTiSII-k1",
        "outputId": "22d06c1f-8678-4101-f563-da946cfca485"
      },
      "outputs": [
        {
          "output_type": "execute_result",
          "data": {
            "text/plain": [
              "tensor(-0.0471305, requires_grad=True)"
            ]
          },
          "metadata": {},
          "execution_count": 6
        }
      ],
      "source": [
        "@qml.qnode(dev, diff_method='parameter-shift')\n",
        "def quantum_model(x, w):\n",
        "    qml.templates.AngleEmbedding(x, wires=[0, 1])\n",
        "    qml.templates.BasicEntanglerLayers(w, wires=[0, 1])\n",
        "    return qml.expval(qml.PauliZ(wires=1))\n",
        "\n",
        "x = np.array([0.1, 0.2], requires_grad=False)\n",
        "w = np.array([[-2.1, 1.2], [-1.4, -3.9], [0.5, 0.2]])\n",
        "\n",
        "quantum_model(x, w)"
      ]
    },
    {
      "cell_type": "code",
      "execution_count": null,
      "metadata": {
        "colab": {
          "base_uri": "https://localhost:8080/",
          "height": 171
        },
        "id": "WBDp8Vg9spMv",
        "outputId": "19870f0c-203b-4bbc-cb87-7018327220ea"
      },
      "outputs": [
        {
          "output_type": "error",
          "ename": "AttributeError",
          "evalue": "ignored",
          "traceback": [
            "\u001b[0;31m---------------------------------------------------------------------------\u001b[0m",
            "\u001b[0;31mAttributeError\u001b[0m                            Traceback (most recent call last)",
            "\u001b[0;32m<ipython-input-11-a353f3c06f01>\u001b[0m in \u001b[0;36m<module>\u001b[0;34m()\u001b[0m\n\u001b[0;32m----> 1\u001b[0;31m \u001b[0mprint\u001b[0m\u001b[0;34m(\u001b[0m\u001b[0mquantum_model\u001b[0m\u001b[0;34m.\u001b[0m\u001b[0mdraw\u001b[0m\u001b[0;34m(\u001b[0m\u001b[0;34m)\u001b[0m\u001b[0;34m)\u001b[0m\u001b[0;34m\u001b[0m\u001b[0;34m\u001b[0m\u001b[0m\n\u001b[0m",
            "\u001b[0;31mAttributeError\u001b[0m: 'QNode' object has no attribute 'draw'"
          ]
        }
      ],
      "source": [
        "print(quantum_model.draw())"
      ]
    },
    {
      "cell_type": "markdown",
      "metadata": {
        "id": "J491XZp6I-k3"
      },
      "source": [
        "Agora que definimos nosso circuito variacional QNode, podemos construir\n",
        "uma função que calcula o gradiente do parâmetro $i\\text{th}$\n",
        "usando a regra de mudança de parâmetro. Como o modelo também depende da entrada $x$, o gradiente será calculado apenas para este $x$ fixo.\n"
      ]
    },
    {
      "cell_type": "code",
      "execution_count": null,
      "metadata": {
        "colab": {
          "base_uri": "https://localhost:8080/"
        },
        "id": "BMIoXqxdI-k4",
        "outputId": "4ce8fbb0-bc7c-4962-a54f-90cdbec626ca"
      },
      "outputs": [
        {
          "output_type": "stream",
          "name": "stdout",
          "text": [
            "-0.6646069909211211\n"
          ]
        }
      ],
      "source": [
        "def parameter_shift_term(qnode, params, x, i, j):\n",
        "    \n",
        "    shifted = params.copy()\n",
        "    \n",
        "    shifted[i, j] += np.pi/2\n",
        "    forward = qnode(x, shifted)  # forward evaluation\n",
        "\n",
        "    shifted[i, j] -= np.pi\n",
        "    backward = qnode(x, shifted) # backward evaluation\n",
        "\n",
        "    return 0.5 * (forward - backward)\n",
        "\n",
        "# gradient with respect to the first parameter\n",
        "print(parameter_shift_term(quantum_model, w, x, 0, 0))"
      ]
    },
    {
      "cell_type": "markdown",
      "metadata": {
        "id": "ZzZ5um5VI-k4"
      },
      "source": [
        ":Para calcular o gradiente em relação a *todos* os parâmetros, precisamos\n",
        "para percorrer os índices ``i`` e ``j``:"
      ]
    },
    {
      "cell_type": "code",
      "execution_count": null,
      "metadata": {
        "colab": {
          "base_uri": "https://localhost:8080/"
        },
        "id": "1k_45vk_I-k4",
        "outputId": "3df48677-1101-4e0e-87fd-e5cb1fcead63"
      },
      "outputs": [
        {
          "output_type": "stream",
          "name": "stdout",
          "text": [
            "[[-6.64606991e-01  5.27491000e-02]\n",
            " [ 5.55111512e-17  5.27491000e-02]\n",
            " [-6.64606991e-01  5.27491000e-02]]\n"
          ]
        }
      ],
      "source": [
        "def parameter_shift(qnode, params, x):\n",
        "    gradients = np.zeros_like((params))\n",
        "\n",
        "    for i in range(len(gradients)):\n",
        "        for j in range(len(gradients[0])):\n",
        "            gradients[i, j] = parameter_shift_term(qnode, w, x, i, j)\n",
        "\n",
        "    return gradients\n",
        "\n",
        "print(parameter_shift(quantum_model, w, x))"
      ]
    },
    {
      "cell_type": "markdown",
      "metadata": {
        "id": "tyPs_fCB2hAo"
      },
      "source": [
        "## 3. Built-in parameter shift differentiation"
      ]
    },
    {
      "cell_type": "markdown",
      "metadata": {
        "id": "RToLvQIFI-k5"
      },
      "source": [
        "Podemos comparar isso com o recurso de mudança de parâmetro * embutido * do PennyLane usando\n",
        "a função `qml.grad`. Lembre-se, quando definimos o\n",
        "QNode, especificamos que queríamos que fosse diferenciável usando o parâmetro-shift\n",
        "método (``diff_method=\"parameter-shift\"``)."
      ]
    },
    {
      "cell_type": "code",
      "execution_count": null,
      "metadata": {
        "colab": {
          "base_uri": "https://localhost:8080/"
        },
        "id": "v21125ecI-k6",
        "outputId": "89fc72d5-aeb8-4a7f-cbc0-a19e55f1d4bf"
      },
      "outputs": [
        {
          "output_type": "stream",
          "name": "stdout",
          "text": [
            "[[-6.64606991e-01  5.27491000e-02]\n",
            " [ 5.55111512e-17  5.27491000e-02]\n",
            " [-6.64606991e-01  5.27491000e-02]]\n"
          ]
        }
      ],
      "source": [
        "grad_function = qml.grad(quantum_model, argnum=1)\n",
        "\n",
        "print(grad_function(x, w))"
      ]
    },
    {
      "cell_type": "code",
      "source": [
        ""
      ],
      "metadata": {
        "id": "c9CCwzYWfZAU"
      },
      "execution_count": null,
      "outputs": []
    },
    {
      "cell_type": "markdown",
      "metadata": {
        "id": "5OZsKssBI-k6"
      },
      "source": [
        "Se você contar o número de avaliações quânticas, notará que tivemos que avaliar o circuito aproximadamente\n",
        "``2*len(params)`` número de vezes para calcular o gradiente quântico em relação a todos\n",
        "parâmetros."
      ]
    },
    {
      "cell_type": "code",
      "execution_count": null,
      "metadata": {
        "colab": {
          "base_uri": "https://localhost:8080/"
        },
        "id": "RdHKpihpvCYZ",
        "outputId": "b46b0aee-491f-4ca1-ab2d-382ff98d47ac"
      },
      "outputs": [
        {
          "output_type": "stream",
          "name": "stdout",
          "text": [
            "Number of evaluations per gradient: 13\n"
          ]
        }
      ],
      "source": [
        "before = dev.num_executions \n",
        "grad_function = qml.grad(quantum_model, argnum=1)\n",
        "grad_function(x, w)\n",
        "after = dev.num_executions\n",
        "print(\"Number of evaluations per gradient:\", after-before)"
      ]
    },
    {
      "cell_type": "markdown",
      "metadata": {
        "id": "LpO7WcDjvBV6"
      },
      "source": [
        "Embora razoavelmente rápido para um pequeno número de parâmetros, como o número de parâmetros em\n",
        "nosso circuito quântico cresce, assim como ambos\n",
        "\n",
        "1. a profundidade do circuito (e, portanto, o tempo necessário para avaliar cada valor esperado ou passagem 'para frente'), e\n",
        "\n",
        "2. o número de avaliações de mudança de parâmetro necessárias.\n",
        "\n",
        "Ambos os fatores aumentam o tempo necessário para calcular o gradiente com\n",
        "respeito a todos os parâmetros.\n",
        "\n",
        "Portanto, é crucial desenvolver pipelines eficientes para a avaliação de gradientes em aprendizado de máquina quântico. Se você quiser saber mais sobre isso, confira a [demonstração do Amazon-Braket](https://pennylane.ai/qml/demos/braket-parallel-gradients.html), que explica como a PennyLane e a AWS se uniram para paralelizar a avaliação de gradientes quânticos."
      ]
    },
    {
      "cell_type": "markdown",
      "metadata": {
        "id": "UtK1fbrVI-k7"
      },
      "source": [
        "#  TASKS\n",
        "\n",
        "1. Crie um novo dispositivo `default.qubit` onde você pode definir o `diff_method` explicitamente para `diff_method = 'backprop'`. Isso usará truques de diferenciação automática para calcular gradientes com muito mais eficiência para simulações (como implicitamente usado nos notebooks anteriores). Descubra com que frequência o dispositivo é avaliado quando você calcula um gradiente usando a função `qml.grad`.\\"
      ]
    },
    {
      "cell_type": "code",
      "execution_count": null,
      "metadata": {
        "colab": {
          "base_uri": "https://localhost:8080/"
        },
        "id": "z7T-LbPV2hA2",
        "outputId": "c64d8463-dd6e-4877-f6ae-c75fc528ecd1"
      },
      "outputs": [
        {
          "output_type": "stream",
          "name": "stdout",
          "text": [
            "Number of evaluations per gradient: 1\n"
          ]
        }
      ],
      "source": [
        "dev = qml.device(\"default.qubit\", wires=2) \n",
        "\n",
        "@qml.qnode(dev, diff_method='backprop')\n",
        "def quantum_model(x, w):\n",
        "    qml.templates.AngleEmbedding(x, wires=[0, 1])\n",
        "    qml.templates.BasicEntanglerLayers(w, wires=[0, 1])\n",
        "    return qml.expval(qml.PauliZ(wires=1))\n",
        "\n",
        "\n",
        "grad_function = qml.grad(quantum_model, argnum=1)\n",
        "\n",
        "before = dev.num_executions \n",
        "grad_function = qml.grad(quantum_model, argnum=1)\n",
        "grad_function(x, w)\n",
        "after = dev.num_executions\n",
        "print(\"Number of evaluations per gradient:\", after-before)"
      ]
    },
    {
      "cell_type": "markdown",
      "metadata": {
        "id": "ooSLIBXZ2hA4"
      },
      "source": [
        "2. Em cada passo da descida do gradiente precisamos calcular o gradiente de uma computação quântica. Escreva uma função `num_evals(n_params, n_steps)` que receba o número de parâmetros, bem como o número de etapas, e retorne o número de avaliações de circuito necessárias para o treinamento de gradiente descendente com uma regra de mudança de parâmetro. Digamos que você precise de tantas etapas de treinamento quantos forem os parâmetros ou `n_steps=n_params`. Plote o número de avaliações de circuito sobre o número de parâmetros. Que comportamento de escala você vê? Compare isso com uma escala em que cada etapa leva apenas uma única avaliação."
      ]
    },
    {
      "cell_type": "code",
      "execution_count": null,
      "metadata": {
        "id": "ca6JthZCwpKj",
        "colab": {
          "base_uri": "https://localhost:8080/",
          "height": 283
        },
        "outputId": "c34d98b8-fdb3-499b-fd18-80d0acecc806"
      },
      "outputs": [
        {
          "output_type": "execute_result",
          "data": {
            "text/plain": [
              "<matplotlib.legend.Legend at 0x7fb9178a0ed0>"
            ]
          },
          "metadata": {},
          "execution_count": 17
        },
        {
          "output_type": "display_data",
          "data": {
            "text/plain": [
              "<Figure size 432x288 with 1 Axes>"
            ],
            "image/png": "[encoded data removed]"
          },
          "metadata": {
            "needs_background": "light"
          }
        }
      ],
      "source": [
        "import matplotlib.pyplot as plt\n",
        "\n",
        "# note: this function implicitly assumes\n",
        "# single-batch training\n",
        "def num_evals(n_params, n_steps):\n",
        "    return 2*n_params*n_steps\n",
        "\n",
        "x_axis = range(1, 500, 25)\n",
        "scaling = [num_evals(i, i) for i in x_axis]\n",
        "\n",
        "plt.plot(x_axis, scaling, label=\"param-shift\")\n",
        "plt.plot(x_axis, [x for x in x_axis], label=\"backprop\")\n",
        "plt.legend()"
      ]
    },
    {
      "cell_type": "code",
      "execution_count": null,
      "metadata": {
        "id": "6En1kmtW2hA7"
      },
      "outputs": [],
      "source": [
        ""
      ]
    }
  ],
  "metadata": {
    "colab": {
      "name": "3-quantum-gradients.ipynb",
      "provenance": [],
      "collapsed_sections": []
    },
    "kernelspec": {
      "display_name": "cern_tutorial",
      "language": "python",
      "name": "cern_tutorial"
    },
    "language_info": {
      "codemirror_mode": {
        "name": "ipython",
        "version": 3
      },
      "file_extension": ".py",
      "mimetype": "text/x-python",
      "name": "python",
      "nbconvert_exporter": "python",
      "pygments_lexer": "ipython3",
      "version": "3.8.5"
    }
  },
  "nbformat": 4,
  "nbformat_minor": 0
}